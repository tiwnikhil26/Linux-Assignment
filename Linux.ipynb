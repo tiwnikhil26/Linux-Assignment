{
  "nbformat": 4,
  "nbformat_minor": 0,
  "metadata": {
    "colab": {
      "provenance": []
    },
    "kernelspec": {
      "name": "python3",
      "display_name": "Python 3"
    },
    "language_info": {
      "name": "python"
    }
  },
  "cells": [
    {
      "cell_type": "markdown",
      "source": [
        "# Linux"
      ],
      "metadata": {
        "id": "KIAtmQPxEtZ5"
      }
    },
    {
      "cell_type": "markdown",
      "source": [
        "1. What is Linux?\n",
        "  - Linux is an operating system like windows and macos that helps our computer to run programs and manage hardwares.\n",
        "  - It is free and opensource anyone can use or change it.\n",
        "  - It is very secure that is why it is runs most servers, website etc.\n",
        "  - Linux is what helps everything starts, it lets you open files, browse the internet and runs the software."
      ],
      "metadata": {
        "id": "hl2MPMzHEwiZ"
      }
    },
    {
      "cell_type": "markdown",
      "source": [
        "2. What is the difference between Hard Link & Soft Link?\n",
        "  - Hard Link ->\n",
        "  - A Hard Link is like creating a second name label for the same file on disk.\n",
        "  - Hardlink points directly to the files data.\n",
        "  - Even if the original file is deleted, the data still exists through the   hard link.\n",
        "  - All hard links are equal no main or original.\n",
        "Cannot link directories.\n",
        "  - It must be on the same filesystem.\\\n",
        "\n",
        "  - Soft Link ->\n",
        "  - A Soft Link is like a shortcut like in Windows pointing to the original files name, not the actual data.\n",
        "  - It points to the filename, not the actual file.\n",
        "  - If the original file is deleted, the symlink is broken (dead link).\n",
        "  - It can link to directories.\n",
        "  - It can link across different filesystems.\n",
        " Examples of Hard Link And Soft Link ->\n",
        "  - **ln original.txt hardlink.txt** And **ln -s original.txt softlink.txt**\n",
        "\n",
        "\n"
      ],
      "metadata": {
        "id": "h7LsNjQOGt8C"
      }
    },
    {
      "cell_type": "markdown",
      "source": [
        "3.  What is a Kernel in Linux?\n",
        "  - The kernel is the core part of the Linux operating system. It acts as a bridge between your computers hardware like CPU, RAM, disk and the software apps, commands.\n",
        "    - Kernel manages CPU, memory, and devices, Handles file systems & Controls processes and tasks Ensures programs can run safely and efficiently.\n"
      ],
      "metadata": {
        "id": "hI8ZlqsGJh7P"
      }
    },
    {
      "cell_type": "markdown",
      "source": [
        "4.  How do you create a user account?\n",
        "  - To create a user account in Linux, we use the adduser or useradd command.\n",
        "  - The **useradd** command is a more basic tool, while **adduser** is typically more user-friendly, often providing prompts for additional information. It need to use sudo or be logged in as root to execute these commands.\n",
        "  - sudo adduser nikhil - It creates a user called Nikhil\n"
      ],
      "metadata": {
        "id": "rAYWHqbzKHA7"
      }
    },
    {
      "cell_type": "markdown",
      "source": [
        "5.  What is the ‘grep’ command used for in Linux?\n",
        "  - The grep command is used to search for text or patterns inside files.\n",
        "  - grep = Global Regular Expression Print\n",
        "It finds lines that match a keyword or pattern and shows them.\n",
        "  - grep \"hello\" file.txt\n",
        "  This will show all lines in file.txt that contain the word hello"
      ],
      "metadata": {
        "id": "3foseLXKLbxI"
      }
    },
    {
      "cell_type": "markdown",
      "source": [
        "6. Step1: Create user p1\n",
        " Step2: He should be part of 3 groups g1,g2,g3.\n",
        " Step3: whenever he creates a file automatically in the group section of file grp g1 should come.\n",
        "\n",
        "  - Step 1 - sudo adduser p1 - This creates a user with a home directoey /home/p1\n",
        "  - Step 2 - sudo groupadd g1\n",
        "sudo groupadd g2\n",
        "sudo groupadd g3\n",
        "Now, adding p1 to these groups:\n",
        "  - sudo usermod -aG g1,g2,g3 p1\n",
        "\n",
        "  - Step 3 - By default, a user is assigned their own private group (same name as the user). To change the default group to g1:\n",
        "  sudo usermod -g g1 p1 - This sets g1 as the primary group (used when creating new files).\n",
        "  Verifying - so switching to user p1 - su - p1\n",
        "  Now Creating a file - touch test.txt\n",
        "ls -l test.txt\n",
        "  now the resultant output should be -rw-r--r-- 1 p1 g1 ... test.txt\n",
        "\n",
        "The file belongs to user p1 and group g1 as required.\n",
        "\n",
        "\n"
      ],
      "metadata": {
        "id": "RANDSvCBL5UU"
      }
    },
    {
      "cell_type": "markdown",
      "source": [
        "7. Step1: Create directory /tmp/bg as root user and create files inside it.\n",
        " Step2: “abhi” should be the owner of the directory. He should be able to create files and delete files inside    \n",
        "the directory and also he should be able to add content to all files inside the directory.\n",
        "\n",
        "  - Step1 ->\n",
        "    sudo mkdir -p /tmp/bg\n",
        "    cd /tmp/bg\n",
        "    sudo touch file1.txt file2.txt file3.txt\n",
        "  - Step2 Creating user abhi ->\n",
        "    sudo adduser abhi\n",
        "  - Step3 making abhi the owner of the directory\n",
        "    sudo chown -R abhi /tmp/bg\n",
        "  - Step4 ->\n",
        "  Ensuring abhi can create new file, delete and edit content inside all files\n",
        "    sudo chmod 755 /tmp/bg        # rwxr-xr-x on directory\n",
        "    sudo chmod 644 /tmp/bg/*      # rw-r--r-- on files\n",
        "    sudo chmod u+w /tmp/bg/*      # Give write access to the file owner (which  is abhi)\n",
        "    sudo chown abhi /tmp/bg/*\n",
        "For the verification\n",
        "    ls -ld /tmp/bg\n",
        "    ls -l /tmp/bg\n",
        "The resultant output is\n",
        "  - abhi as owner of the directory and files\n",
        "  - Write/execute on the directory\n",
        "  - Read/write on files\n",
        "\n",
        "\n",
        "\n"
      ],
      "metadata": {
        "id": "to9H27BANYT3"
      }
    },
    {
      "cell_type": "markdown",
      "source": [
        "8. You suspect that a particular process is consuming excessive CPU resources on your Linux server. How would you identify and terminate this process?\n",
        "  - ps aux --sort=-%cpu | head\n",
        "  Now Terminating -> sudo kill 1345"
      ],
      "metadata": {
        "id": "NN72lhrhPgcf"
      }
    },
    {
      "cell_type": "code",
      "execution_count": null,
      "metadata": {
        "id": "-hq_00ukELtE"
      },
      "outputs": [],
      "source": []
    }
  ]
}